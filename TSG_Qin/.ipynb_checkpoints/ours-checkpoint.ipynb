{
 "cells": [
  {
   "cell_type": "code",
   "execution_count": null,
   "metadata": {},
   "outputs": [],
   "source": [
    "import torch\n",
    "import numpy as np\n",
    "import time\n",
    "import matplotlib\n",
    "#matplotlib.use('Agg')\n",
    "import matplotlib.pyplot as plt\n",
    "%config InlineBackend.figure_format='svg'\n",
    "%matplotlib inline\n",
    "\n",
    "from Model import Network\n",
    "from microgrid import MG"
   ]
  },
  {
   "cell_type": "code",
   "execution_count": null,
   "metadata": {},
   "outputs": [],
   "source": [
    "#import torch.optim as optim\n",
    "env = MG()\n",
    "actor_critic = Policy(\n",
    "    env.observation_space.shape,\n",
    "    env.action_space.shape,\n",
    "    base_kwargs={'recurrent': args.recurrent_policy})\n",
    "actor_critic.to(device)\n",
    "#optimizer = optim.Adam(net.parameters(), lr=args.net_lr,weight_decay=args.weight_decay)\n",
    "device = torch.device('cuda:0' if torch.cuda.is_available() else 'cpu')\n",
    "net = net.to(device)\n",
    "#policy = A2C(args, net, optimizer, device)\n",
    "checkpoint = torch.load('./models/best')\n",
    "net.load_state_dict(checkpoint['model_state_dict'],strict=False)\n",
    "net.eval()"
   ]
  },
  {
   "cell_type": "code",
   "execution_count": null,
   "metadata": {},
   "outputs": [],
   "source": [
    "import torch.distributions as dist\n",
    "import numpy as np\n",
    "from itertools import count\n",
    "np.random.seed(1)\n",
    "indoor = np.zeros([12*24,10])\n",
    "EVs_demand = []\n",
    "costs = []\n",
    "GRU = []\n",
    "MLP = []\n",
    "actions = []\n",
    "with torch.no_grad():\n",
    "    obs_GRU,obs_MLP = env.reset()\n",
    "    hidden = None\n",
    "    for episode_step in count():\n",
    "        indoor[episode_step] = env.ACs_T\n",
    "        obs_GRU = torch.from_numpy(obs_GRU.reshape(1,-1)).to(torch.float).to(device)\n",
    "        obs_MLP = torch.from_numpy(obs_MLP.reshape(1,-1)).to(torch.float).to(device)\n",
    "        mu, sigma, value, hidden = net(obs_GRU,obs_MLP,hidden)\n",
    "        normal_probs = dist.normal.Normal(mu,sigma+1e-1)\n",
    "        action = normal_probs.sample()\n",
    "        action = action.detach().cpu().numpy()[0]\n",
    "        obs_GRU, obs_MLP, cost, done, info = env.move(action)  \n",
    "        # gather env data, reset done envs and update their obs\n",
    "        if done==True:\n",
    "            break\n",
    "        \n",
    "        EVs_demand.append(env.EVs_demand)\n",
    "        GRU.append(obs_GRU)\n",
    "        MLP.append(obs_MLP)\n",
    "        actions.append(action)\n",
    "        costs.append(cost)\n",
    "GRU = np.array(GRU)\n",
    "MLP = np.array(MLP)\n",
    "costs = np.array(costs)"
   ]
  }
 ],
 "metadata": {
  "kernelspec": {
   "display_name": "Python 3",
   "language": "python",
   "name": "python3"
  },
  "language_info": {
   "codemirror_mode": {
    "name": "ipython",
    "version": 3
   },
   "file_extension": ".py",
   "mimetype": "text/x-python",
   "name": "python",
   "nbconvert_exporter": "python",
   "pygments_lexer": "ipython3",
   "version": "3.9.0"
  }
 },
 "nbformat": 4,
 "nbformat_minor": 4
}
