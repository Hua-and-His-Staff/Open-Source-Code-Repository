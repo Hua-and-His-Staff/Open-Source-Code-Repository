{
 "cells": [
  {
   "cell_type": "code",
   "execution_count": 1,
   "metadata": {},
   "outputs": [],
   "source": [
    "import torch\n",
    "import numpy as np\n",
    "import time\n",
    "import matplotlib\n",
    "#matplotlib.use('Agg')\n",
    "import matplotlib.pyplot as plt\n",
    "%config InlineBackend.figure_format='svg'\n",
    "%matplotlib inline\n",
    "\n",
    "from a2c.model import Policy\n",
    "from evaluation_test import evaluate\n",
    "from microgrid import MG_for_test"
   ]
  },
  {
   "cell_type": "code",
   "execution_count": 2,
   "metadata": {},
   "outputs": [
    {
     "data": {
      "text/plain": [
       "Network(\n",
       "  (gru): GRU(20, 128)\n",
       "  (actor): Sequential(\n",
       "    (0): Linear(in_features=128, out_features=128, bias=True)\n",
       "    (1): Tanh()\n",
       "    (2): Linear(in_features=128, out_features=128, bias=True)\n",
       "    (3): Tanh()\n",
       "  )\n",
       "  (mean): Sequential(\n",
       "    (0): Linear(in_features=128, out_features=16, bias=True)\n",
       "    (1): Sigmoid()\n",
       "  )\n",
       "  (std): Sequential(\n",
       "    (0): Linear(in_features=128, out_features=16, bias=True)\n",
       "    (1): Sigmoid()\n",
       "  )\n",
       "  (critic): Sequential(\n",
       "    (0): Linear(in_features=128, out_features=128, bias=True)\n",
       "    (1): Tanh()\n",
       "    (2): Linear(in_features=128, out_features=128, bias=True)\n",
       "    (3): Tanh()\n",
       "    (4): Linear(in_features=128, out_features=1, bias=True)\n",
       "  )\n",
       ")"
      ]
     },
     "execution_count": 2,
     "metadata": {},
     "output_type": "execute_result"
    }
   ],
   "source": [
    "#import torch.optim as optim\n",
    "env = MG_for_test(False,True)\n",
    "actor_critic = Policy(\n",
    "    env.observation_space.shape,\n",
    "    env.action_space.shape,\n",
    "    base_kwargs={'recurrent': True,'assign_credit':False})\n",
    "device = torch.device('cuda:0' if torch.cuda.is_available() else 'cpu')\n",
    "actor_critic.to(device)\n",
    "#policy = A2C(args, net, optimizer, device)\n",
    "checkpoint = torch.load('./models/one_value/current')\n",
    "actor_critic.base.load_state_dict(checkpoint['model_state_dict'],strict=False)\n",
    "actor_critic.base.eval()"
   ]
  },
  {
   "cell_type": "code",
   "execution_count": 3,
   "metadata": {},
   "outputs": [
    {
     "name": "stdout",
     "output_type": "stream",
     "text": [
      "\n",
      "local connection 68 is closed\n",
      "local connection 70 is closed\n",
      "local connection 63 is closed\n",
      "local connection 62 is closed\n",
      "local connection 65 is closed\n",
      "local connection 74 is closed\n",
      "local connection 64 is closed\n",
      "\n",
      "local connection 72 is closed\n",
      "\n",
      "\n",
      "\n",
      "\n",
      "\n",
      "\n",
      "2.251865528476148\n",
      "71.82306212081572\n"
     ]
    }
   ],
   "source": [
    "env_settings ={'assign_credit':False, 'privacy_preserving':True, 'compared':False}\n",
    "consumption, loss = evaluate(actor_critic, 9, 8, device, env_settings)\n",
    "print(consumption)\n",
    "print(loss)"
   ]
  },
  {
   "cell_type": "code",
   "execution_count": 7,
   "metadata": {},
   "outputs": [
    {
     "name": "stdout",
     "output_type": "stream",
     "text": [
      "tensor(54.2575)\n",
      "tensor(177.0641)\n",
      "tensor(122.8066)\n"
     ]
    }
   ],
   "source": [
    "costs,_ = costs\n",
    "print(costs[0])\n",
    "print(costs.sum())\n",
    "print(costs[1:].sum())"
   ]
  },
  {
   "cell_type": "code",
   "execution_count": null,
   "metadata": {},
   "outputs": [],
   "source": []
  }
 ],
 "metadata": {
  "kernelspec": {
   "display_name": "Python 3",
   "language": "python",
   "name": "python3"
  },
  "language_info": {
   "codemirror_mode": {
    "name": "ipython",
    "version": 3
   },
   "file_extension": ".py",
   "mimetype": "text/x-python",
   "name": "python",
   "nbconvert_exporter": "python",
   "pygments_lexer": "ipython3",
   "version": "3.9.0"
  }
 },
 "nbformat": 4,
 "nbformat_minor": 4
}
