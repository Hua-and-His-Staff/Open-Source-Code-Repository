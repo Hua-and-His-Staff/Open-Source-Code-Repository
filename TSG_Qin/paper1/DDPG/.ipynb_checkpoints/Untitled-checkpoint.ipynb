{
 "cells": [
  {
   "cell_type": "code",
   "execution_count": 1,
   "metadata": {},
   "outputs": [
    {
     "name": "stderr",
     "output_type": "stream",
     "text": [
      "/home/zhaoming/.local/lib/python3.8/site-packages/gym/logger.py:30: UserWarning: \u001b[33mWARN: Box bound precision lowered by casting to float32\u001b[0m\n",
      "  warnings.warn(colorize('%s: %s'%('WARN', msg % args), 'yellow'))\n"
     ]
    },
    {
     "ename": "ValueError",
     "evalue": "all the input array dimensions for the concatenation axis must match exactly, but along dimension 0, the array at index 0 has size 10 and the array at index 1 has size 170",
     "output_type": "error",
     "traceback": [
      "\u001b[0;31m---------------------------------------------------------------------------\u001b[0m",
      "\u001b[0;31mValueError\u001b[0m                                Traceback (most recent call last)",
      "\u001b[0;32m~/RL/Liu_Hua/DDPG/main.py\u001b[0m in \u001b[0;36m<module>\u001b[0;34m\u001b[0m\n\u001b[1;32m    144\u001b[0m         \u001b[0mos\u001b[0m\u001b[0;34m.\u001b[0m\u001b[0mmakedirs\u001b[0m\u001b[0;34m(\u001b[0m\u001b[0moutput\u001b[0m\u001b[0;34m)\u001b[0m\u001b[0;34m\u001b[0m\u001b[0;34m\u001b[0m\u001b[0m\n\u001b[1;32m    145\u001b[0m     \u001b[0;32mif\u001b[0m \u001b[0margs\u001b[0m\u001b[0;34m.\u001b[0m\u001b[0mresume\u001b[0m\u001b[0;34m==\u001b[0m\u001b[0;34m'default'\u001b[0m\u001b[0;34m:\u001b[0m\u001b[0;34m\u001b[0m\u001b[0;34m\u001b[0m\u001b[0m\n\u001b[0;32m--> 146\u001b[0;31m         \u001b[0margs\u001b[0m\u001b[0;34m.\u001b[0m\u001b[0mresume\u001b[0m \u001b[0;34m=\u001b[0m \u001b[0moutput\u001b[0m\u001b[0;34m\u001b[0m\u001b[0;34m\u001b[0m\u001b[0m\n\u001b[0m\u001b[1;32m    147\u001b[0m     \u001b[0mtrain_env\u001b[0m \u001b[0;34m=\u001b[0m \u001b[0mEIEnv\u001b[0m\u001b[0;34m(\u001b[0m\u001b[0;34m)\u001b[0m\u001b[0;34m\u001b[0m\u001b[0;34m\u001b[0m\u001b[0m\n\u001b[1;32m    148\u001b[0m     \u001b[0mvalid_env\u001b[0m \u001b[0;34m=\u001b[0m \u001b[0mEIEnv\u001b[0m\u001b[0;34m(\u001b[0m\u001b[0;34m)\u001b[0m\u001b[0;34m\u001b[0m\u001b[0;34m\u001b[0m\u001b[0m\n",
      "\u001b[0;32m~/RL/Liu_Hua/DDPG/main.py\u001b[0m in \u001b[0;36mtrain\u001b[0;34m(num_iterations, agent, train_env, valid_env, evaluate, train_episodes, validate_train_episodes, output, max_episode_length, debug)\u001b[0m\n\u001b[1;32m     73\u001b[0m             \u001b[0mepisode_reward\u001b[0m \u001b[0;34m=\u001b[0m \u001b[0;36m0.\u001b[0m\u001b[0;34m\u001b[0m\u001b[0;34m\u001b[0m\u001b[0m\n\u001b[1;32m     74\u001b[0m             \u001b[0mepisode\u001b[0m \u001b[0;34m+=\u001b[0m \u001b[0;36m1\u001b[0m\u001b[0;34m\u001b[0m\u001b[0;34m\u001b[0m\u001b[0m\n\u001b[0;32m---> 75\u001b[0;31m             \u001b[0;32mif\u001b[0m \u001b[0mstep\u001b[0m \u001b[0;34m>\u001b[0m \u001b[0margs\u001b[0m\u001b[0;34m.\u001b[0m\u001b[0mwarmup\u001b[0m \u001b[0;32mand\u001b[0m \u001b[0mepisode\u001b[0m \u001b[0;34m%\u001b[0m \u001b[0mtrain_episodes\u001b[0m \u001b[0;34m==\u001b[0m \u001b[0;36m0\u001b[0m\u001b[0;34m:\u001b[0m\u001b[0;34m\u001b[0m\u001b[0;34m\u001b[0m\u001b[0m\n\u001b[0m\u001b[1;32m     76\u001b[0m                 \u001b[0magent\u001b[0m\u001b[0;34m.\u001b[0m\u001b[0mupdate_policy\u001b[0m\u001b[0;34m(\u001b[0m\u001b[0;34m)\u001b[0m\u001b[0;34m\u001b[0m\u001b[0;34m\u001b[0m\u001b[0m\n\u001b[1;32m     77\u001b[0m \u001b[0;34m\u001b[0m\u001b[0m\n",
      "\u001b[0;32m~/RL/Liu_Hua/DDPG/evaluator.py\u001b[0m in \u001b[0;36m__call__\u001b[0;34m(self, env, policy, debug, visualize, save)\u001b[0m\n\u001b[1;32m     52\u001b[0m \u001b[0;34m\u001b[0m\u001b[0m\n\u001b[1;32m     53\u001b[0m         \u001b[0mresult\u001b[0m \u001b[0;34m=\u001b[0m \u001b[0mnp\u001b[0m\u001b[0;34m.\u001b[0m\u001b[0marray\u001b[0m\u001b[0;34m(\u001b[0m\u001b[0mresult\u001b[0m\u001b[0;34m)\u001b[0m\u001b[0;34m.\u001b[0m\u001b[0mreshape\u001b[0m\u001b[0;34m(\u001b[0m\u001b[0;34m-\u001b[0m\u001b[0;36m1\u001b[0m\u001b[0;34m,\u001b[0m\u001b[0;36m1\u001b[0m\u001b[0;34m)\u001b[0m\u001b[0;34m\u001b[0m\u001b[0;34m\u001b[0m\u001b[0m\n\u001b[0;32m---> 54\u001b[0;31m         \u001b[0mself\u001b[0m\u001b[0;34m.\u001b[0m\u001b[0mresults\u001b[0m \u001b[0;34m=\u001b[0m \u001b[0mnp\u001b[0m\u001b[0;34m.\u001b[0m\u001b[0mhstack\u001b[0m\u001b[0;34m(\u001b[0m\u001b[0;34m[\u001b[0m\u001b[0mself\u001b[0m\u001b[0;34m.\u001b[0m\u001b[0mresults\u001b[0m\u001b[0;34m,\u001b[0m \u001b[0mresult\u001b[0m\u001b[0;34m]\u001b[0m\u001b[0;34m)\u001b[0m\u001b[0;34m\u001b[0m\u001b[0;34m\u001b[0m\u001b[0m\n\u001b[0m\u001b[1;32m     55\u001b[0m \u001b[0;34m\u001b[0m\u001b[0m\n\u001b[1;32m     56\u001b[0m         \u001b[0;32mif\u001b[0m \u001b[0msave\u001b[0m\u001b[0;34m:\u001b[0m\u001b[0;34m\u001b[0m\u001b[0;34m\u001b[0m\u001b[0m\n",
      "\u001b[0;32m<__array_function__ internals>\u001b[0m in \u001b[0;36mhstack\u001b[0;34m(*args, **kwargs)\u001b[0m\n",
      "\u001b[0;32m/usr/lib/python3.8/site-packages/numpy/core/shape_base.py\u001b[0m in \u001b[0;36mhstack\u001b[0;34m(tup)\u001b[0m\n\u001b[1;32m    343\u001b[0m         \u001b[0;32mreturn\u001b[0m \u001b[0m_nx\u001b[0m\u001b[0;34m.\u001b[0m\u001b[0mconcatenate\u001b[0m\u001b[0;34m(\u001b[0m\u001b[0marrs\u001b[0m\u001b[0;34m,\u001b[0m \u001b[0;36m0\u001b[0m\u001b[0;34m)\u001b[0m\u001b[0;34m\u001b[0m\u001b[0;34m\u001b[0m\u001b[0m\n\u001b[1;32m    344\u001b[0m     \u001b[0;32melse\u001b[0m\u001b[0;34m:\u001b[0m\u001b[0;34m\u001b[0m\u001b[0;34m\u001b[0m\u001b[0m\n\u001b[0;32m--> 345\u001b[0;31m         \u001b[0;32mreturn\u001b[0m \u001b[0m_nx\u001b[0m\u001b[0;34m.\u001b[0m\u001b[0mconcatenate\u001b[0m\u001b[0;34m(\u001b[0m\u001b[0marrs\u001b[0m\u001b[0;34m,\u001b[0m \u001b[0;36m1\u001b[0m\u001b[0;34m)\u001b[0m\u001b[0;34m\u001b[0m\u001b[0;34m\u001b[0m\u001b[0m\n\u001b[0m\u001b[1;32m    346\u001b[0m \u001b[0;34m\u001b[0m\u001b[0m\n\u001b[1;32m    347\u001b[0m \u001b[0;34m\u001b[0m\u001b[0m\n",
      "\u001b[0;32m<__array_function__ internals>\u001b[0m in \u001b[0;36mconcatenate\u001b[0;34m(*args, **kwargs)\u001b[0m\n",
      "\u001b[0;31mValueError\u001b[0m: all the input array dimensions for the concatenation axis must match exactly, but along dimension 0, the array at index 0 has size 10 and the array at index 1 has size 170"
     ]
    }
   ],
   "source": [
    "run main.py"
   ]
  },
  {
   "cell_type": "code",
   "execution_count": 5,
   "metadata": {},
   "outputs": [],
   "source": [
    "from env import Env\n",
    "import numpy as np\n",
    "env = Env()\n",
    "result = []\n",
    "for episode in range(10):\n",
    "\n",
    "    # reset at the start of episode\n",
    "    observation = env.reset()\n",
    "    episode_steps = 0\n",
    "    episode_reward = 0.   \n",
    "\n",
    "    assert observation is not None\n",
    "    #print(observation)\n",
    "\n",
    "    # start episode\n",
    "    done = False\n",
    "    while not done:\n",
    "        # basic operation, action ,reward, blablabla ...\n",
    "        action = np.array([0.7])\n",
    "        observation, reward, done, info = env.move(action)\n",
    "        #if self.max_episode_length and episode_steps >= self.max_episode_length -1:\n",
    "        #    done = True\n",
    "        # update\n",
    "        episode_reward += reward\n",
    "        episode_steps += 1\n",
    "    result.append(episode_reward)\n",
    "result = np.array(result).reshape(-1,1)"
   ]
  },
  {
   "cell_type": "code",
   "execution_count": 6,
   "metadata": {},
   "outputs": [
    {
     "data": {
      "text/plain": [
       "array([[-1120.06220448],\n",
       "       [-1125.13901426],\n",
       "       [-1116.20076688],\n",
       "       [-1110.58773378],\n",
       "       [-1107.33674471],\n",
       "       [-1118.03201911],\n",
       "       [-1103.0647622 ],\n",
       "       [-1096.21505624],\n",
       "       [-1110.49360213],\n",
       "       [-1126.44223481]])"
      ]
     },
     "execution_count": 6,
     "metadata": {},
     "output_type": "execute_result"
    }
   ],
   "source": [
    "result"
   ]
  },
  {
   "cell_type": "code",
   "execution_count": 1,
   "metadata": {},
   "outputs": [
    {
     "data": {
      "text/plain": [
       "'/home/zhaoming/Qin_Liu/DDPG'"
      ]
     },
     "execution_count": 1,
     "metadata": {},
     "output_type": "execute_result"
    }
   ],
   "source": [
    "import os\n",
    "os.getcwd()"
   ]
  },
  {
   "cell_type": "code",
   "execution_count": 2,
   "metadata": {},
   "outputs": [],
   "source": [
    "import pandas as pd\n",
    "load = pd.read_csv('./Data/Base_load_update.csv')"
   ]
  },
  {
   "cell_type": "code",
   "execution_count": 3,
   "metadata": {},
   "outputs": [
    {
     "data": {
      "text/html": [
       "<div>\n",
       "<style scoped>\n",
       "    .dataframe tbody tr th:only-of-type {\n",
       "        vertical-align: middle;\n",
       "    }\n",
       "\n",
       "    .dataframe tbody tr th {\n",
       "        vertical-align: top;\n",
       "    }\n",
       "\n",
       "    .dataframe thead th {\n",
       "        text-align: right;\n",
       "    }\n",
       "</style>\n",
       "<table border=\"1\" class=\"dataframe\">\n",
       "  <thead>\n",
       "    <tr style=\"text-align: right;\">\n",
       "      <th></th>\n",
       "      <th>localminute</th>\n",
       "      <th>27</th>\n",
       "      <th>142</th>\n",
       "      <th>387</th>\n",
       "      <th>558</th>\n",
       "      <th>914</th>\n",
       "      <th>950</th>\n",
       "      <th>1222</th>\n",
       "      <th>1240</th>\n",
       "      <th>1417</th>\n",
       "      <th>...</th>\n",
       "      <th>3700</th>\n",
       "      <th>3996</th>\n",
       "      <th>4283</th>\n",
       "      <th>4550</th>\n",
       "      <th>5058</th>\n",
       "      <th>5587</th>\n",
       "      <th>5679</th>\n",
       "      <th>5982</th>\n",
       "      <th>5997</th>\n",
       "      <th>9053</th>\n",
       "    </tr>\n",
       "  </thead>\n",
       "  <tbody>\n",
       "    <tr>\n",
       "      <th>0</th>\n",
       "      <td>2019/5/1 0:00</td>\n",
       "      <td>0.349</td>\n",
       "      <td>0.066</td>\n",
       "      <td>0.061</td>\n",
       "      <td>0.164</td>\n",
       "      <td>0.008</td>\n",
       "      <td>0.190</td>\n",
       "      <td>0.013</td>\n",
       "      <td>0.357</td>\n",
       "      <td>0.036</td>\n",
       "      <td>...</td>\n",
       "      <td>0.155</td>\n",
       "      <td>0.541</td>\n",
       "      <td>0.122</td>\n",
       "      <td>0.137</td>\n",
       "      <td>0.075</td>\n",
       "      <td>0.371</td>\n",
       "      <td>0.050</td>\n",
       "      <td>0.042</td>\n",
       "      <td>0.272</td>\n",
       "      <td>0.010</td>\n",
       "    </tr>\n",
       "    <tr>\n",
       "      <th>1</th>\n",
       "      <td>2019/5/1 0:01</td>\n",
       "      <td>0.349</td>\n",
       "      <td>0.066</td>\n",
       "      <td>0.061</td>\n",
       "      <td>0.163</td>\n",
       "      <td>0.008</td>\n",
       "      <td>0.181</td>\n",
       "      <td>0.013</td>\n",
       "      <td>0.356</td>\n",
       "      <td>0.036</td>\n",
       "      <td>...</td>\n",
       "      <td>0.153</td>\n",
       "      <td>0.541</td>\n",
       "      <td>0.023</td>\n",
       "      <td>0.136</td>\n",
       "      <td>0.075</td>\n",
       "      <td>0.030</td>\n",
       "      <td>0.050</td>\n",
       "      <td>0.041</td>\n",
       "      <td>0.106</td>\n",
       "      <td>0.011</td>\n",
       "    </tr>\n",
       "    <tr>\n",
       "      <th>2</th>\n",
       "      <td>2019/5/1 0:02</td>\n",
       "      <td>0.349</td>\n",
       "      <td>0.066</td>\n",
       "      <td>0.060</td>\n",
       "      <td>0.164</td>\n",
       "      <td>0.008</td>\n",
       "      <td>0.179</td>\n",
       "      <td>0.013</td>\n",
       "      <td>0.358</td>\n",
       "      <td>0.036</td>\n",
       "      <td>...</td>\n",
       "      <td>0.152</td>\n",
       "      <td>0.541</td>\n",
       "      <td>0.021</td>\n",
       "      <td>0.137</td>\n",
       "      <td>1.263</td>\n",
       "      <td>0.024</td>\n",
       "      <td>0.050</td>\n",
       "      <td>0.041</td>\n",
       "      <td>0.105</td>\n",
       "      <td>0.054</td>\n",
       "    </tr>\n",
       "    <tr>\n",
       "      <th>3</th>\n",
       "      <td>2019/5/1 0:03</td>\n",
       "      <td>0.352</td>\n",
       "      <td>0.067</td>\n",
       "      <td>0.060</td>\n",
       "      <td>0.163</td>\n",
       "      <td>0.007</td>\n",
       "      <td>0.180</td>\n",
       "      <td>0.013</td>\n",
       "      <td>0.357</td>\n",
       "      <td>0.036</td>\n",
       "      <td>...</td>\n",
       "      <td>0.150</td>\n",
       "      <td>0.417</td>\n",
       "      <td>0.020</td>\n",
       "      <td>0.137</td>\n",
       "      <td>1.335</td>\n",
       "      <td>0.024</td>\n",
       "      <td>0.049</td>\n",
       "      <td>0.041</td>\n",
       "      <td>0.066</td>\n",
       "      <td>0.334</td>\n",
       "    </tr>\n",
       "    <tr>\n",
       "      <th>4</th>\n",
       "      <td>2019/5/1 0:04</td>\n",
       "      <td>0.368</td>\n",
       "      <td>0.066</td>\n",
       "      <td>0.061</td>\n",
       "      <td>0.162</td>\n",
       "      <td>0.007</td>\n",
       "      <td>0.179</td>\n",
       "      <td>0.011</td>\n",
       "      <td>0.359</td>\n",
       "      <td>0.036</td>\n",
       "      <td>...</td>\n",
       "      <td>0.148</td>\n",
       "      <td>0.098</td>\n",
       "      <td>0.021</td>\n",
       "      <td>0.135</td>\n",
       "      <td>1.334</td>\n",
       "      <td>0.025</td>\n",
       "      <td>0.049</td>\n",
       "      <td>0.041</td>\n",
       "      <td>0.037</td>\n",
       "      <td>0.330</td>\n",
       "    </tr>\n",
       "  </tbody>\n",
       "</table>\n",
       "<p>5 rows × 26 columns</p>\n",
       "</div>"
      ],
      "text/plain": [
       "     localminute     27    142    387    558    914    950   1222   1240  \\\n",
       "0  2019/5/1 0:00  0.349  0.066  0.061  0.164  0.008  0.190  0.013  0.357   \n",
       "1  2019/5/1 0:01  0.349  0.066  0.061  0.163  0.008  0.181  0.013  0.356   \n",
       "2  2019/5/1 0:02  0.349  0.066  0.060  0.164  0.008  0.179  0.013  0.358   \n",
       "3  2019/5/1 0:03  0.352  0.067  0.060  0.163  0.007  0.180  0.013  0.357   \n",
       "4  2019/5/1 0:04  0.368  0.066  0.061  0.162  0.007  0.179  0.011  0.359   \n",
       "\n",
       "    1417  ...   3700   3996   4283   4550   5058   5587   5679   5982   5997  \\\n",
       "0  0.036  ...  0.155  0.541  0.122  0.137  0.075  0.371  0.050  0.042  0.272   \n",
       "1  0.036  ...  0.153  0.541  0.023  0.136  0.075  0.030  0.050  0.041  0.106   \n",
       "2  0.036  ...  0.152  0.541  0.021  0.137  1.263  0.024  0.050  0.041  0.105   \n",
       "3  0.036  ...  0.150  0.417  0.020  0.137  1.335  0.024  0.049  0.041  0.066   \n",
       "4  0.036  ...  0.148  0.098  0.021  0.135  1.334  0.025  0.049  0.041  0.037   \n",
       "\n",
       "    9053  \n",
       "0  0.010  \n",
       "1  0.011  \n",
       "2  0.054  \n",
       "3  0.334  \n",
       "4  0.330  \n",
       "\n",
       "[5 rows x 26 columns]"
      ]
     },
     "execution_count": 3,
     "metadata": {},
     "output_type": "execute_result"
    }
   ],
   "source": [
    "load.head()"
   ]
  },
  {
   "cell_type": "code",
   "execution_count": 4,
   "metadata": {},
   "outputs": [],
   "source": [
    "RTP = pd.read_csv('/home/zhaoming/Liu_Qin/RTP.csv')"
   ]
  },
  {
   "cell_type": "code",
   "execution_count": 5,
   "metadata": {},
   "outputs": [
    {
     "data": {
      "text/html": [
       "<div>\n",
       "<style scoped>\n",
       "    .dataframe tbody tr th:only-of-type {\n",
       "        vertical-align: middle;\n",
       "    }\n",
       "\n",
       "    .dataframe tbody tr th {\n",
       "        vertical-align: top;\n",
       "    }\n",
       "\n",
       "    .dataframe thead th {\n",
       "        text-align: right;\n",
       "    }\n",
       "</style>\n",
       "<table border=\"1\" class=\"dataframe\">\n",
       "  <thead>\n",
       "    <tr style=\"text-align: right;\">\n",
       "      <th></th>\n",
       "      <th>datetime_beginning_utc</th>\n",
       "      <th>datetime_beginning_ept</th>\n",
       "      <th>pnode_id</th>\n",
       "      <th>pnode_name</th>\n",
       "      <th>voltage</th>\n",
       "      <th>equipment</th>\n",
       "      <th>type</th>\n",
       "      <th>zone</th>\n",
       "      <th>system_energy_price_rt</th>\n",
       "      <th>total_lmp_rt</th>\n",
       "      <th>congestion_price_rt</th>\n",
       "      <th>marginal_loss_price_rt</th>\n",
       "      <th>row_is_current</th>\n",
       "      <th>version_nbr</th>\n",
       "    </tr>\n",
       "  </thead>\n",
       "  <tbody>\n",
       "    <tr>\n",
       "      <th>0</th>\n",
       "      <td>8/1/2020 4:00:00 AM</td>\n",
       "      <td>8/1/2020 12:00:00 AM</td>\n",
       "      <td>1</td>\n",
       "      <td>PJM-RTO</td>\n",
       "      <td>NaN</td>\n",
       "      <td>NaN</td>\n",
       "      <td>ZONE</td>\n",
       "      <td>NaN</td>\n",
       "      <td>15.48</td>\n",
       "      <td>15.492029</td>\n",
       "      <td>0.0</td>\n",
       "      <td>0.008696</td>\n",
       "      <td>True</td>\n",
       "      <td>1</td>\n",
       "    </tr>\n",
       "    <tr>\n",
       "      <th>1</th>\n",
       "      <td>8/1/2020 5:00:00 AM</td>\n",
       "      <td>8/1/2020 1:00:00 AM</td>\n",
       "      <td>1</td>\n",
       "      <td>PJM-RTO</td>\n",
       "      <td>NaN</td>\n",
       "      <td>NaN</td>\n",
       "      <td>ZONE</td>\n",
       "      <td>NaN</td>\n",
       "      <td>15.04</td>\n",
       "      <td>15.053449</td>\n",
       "      <td>0.0</td>\n",
       "      <td>0.010116</td>\n",
       "      <td>True</td>\n",
       "      <td>1</td>\n",
       "    </tr>\n",
       "    <tr>\n",
       "      <th>2</th>\n",
       "      <td>8/1/2020 6:00:00 AM</td>\n",
       "      <td>8/1/2020 2:00:00 AM</td>\n",
       "      <td>1</td>\n",
       "      <td>PJM-RTO</td>\n",
       "      <td>NaN</td>\n",
       "      <td>NaN</td>\n",
       "      <td>ZONE</td>\n",
       "      <td>NaN</td>\n",
       "      <td>14.20</td>\n",
       "      <td>14.208208</td>\n",
       "      <td>0.0</td>\n",
       "      <td>0.012375</td>\n",
       "      <td>True</td>\n",
       "      <td>1</td>\n",
       "    </tr>\n",
       "    <tr>\n",
       "      <th>3</th>\n",
       "      <td>8/1/2020 7:00:00 AM</td>\n",
       "      <td>8/1/2020 3:00:00 AM</td>\n",
       "      <td>1</td>\n",
       "      <td>PJM-RTO</td>\n",
       "      <td>NaN</td>\n",
       "      <td>NaN</td>\n",
       "      <td>ZONE</td>\n",
       "      <td>NaN</td>\n",
       "      <td>13.43</td>\n",
       "      <td>13.439615</td>\n",
       "      <td>0.0</td>\n",
       "      <td>0.009615</td>\n",
       "      <td>True</td>\n",
       "      <td>1</td>\n",
       "    </tr>\n",
       "    <tr>\n",
       "      <th>4</th>\n",
       "      <td>8/1/2020 8:00:00 AM</td>\n",
       "      <td>8/1/2020 4:00:00 AM</td>\n",
       "      <td>1</td>\n",
       "      <td>PJM-RTO</td>\n",
       "      <td>NaN</td>\n",
       "      <td>NaN</td>\n",
       "      <td>ZONE</td>\n",
       "      <td>NaN</td>\n",
       "      <td>12.86</td>\n",
       "      <td>12.872694</td>\n",
       "      <td>0.0</td>\n",
       "      <td>0.008527</td>\n",
       "      <td>True</td>\n",
       "      <td>1</td>\n",
       "    </tr>\n",
       "  </tbody>\n",
       "</table>\n",
       "</div>"
      ],
      "text/plain": [
       "  datetime_beginning_utc datetime_beginning_ept  pnode_id pnode_name  voltage  \\\n",
       "0    8/1/2020 4:00:00 AM   8/1/2020 12:00:00 AM         1    PJM-RTO      NaN   \n",
       "1    8/1/2020 5:00:00 AM    8/1/2020 1:00:00 AM         1    PJM-RTO      NaN   \n",
       "2    8/1/2020 6:00:00 AM    8/1/2020 2:00:00 AM         1    PJM-RTO      NaN   \n",
       "3    8/1/2020 7:00:00 AM    8/1/2020 3:00:00 AM         1    PJM-RTO      NaN   \n",
       "4    8/1/2020 8:00:00 AM    8/1/2020 4:00:00 AM         1    PJM-RTO      NaN   \n",
       "\n",
       "   equipment  type  zone  system_energy_price_rt  total_lmp_rt  \\\n",
       "0        NaN  ZONE   NaN                   15.48     15.492029   \n",
       "1        NaN  ZONE   NaN                   15.04     15.053449   \n",
       "2        NaN  ZONE   NaN                   14.20     14.208208   \n",
       "3        NaN  ZONE   NaN                   13.43     13.439615   \n",
       "4        NaN  ZONE   NaN                   12.86     12.872694   \n",
       "\n",
       "   congestion_price_rt  marginal_loss_price_rt  row_is_current  version_nbr  \n",
       "0                  0.0                0.008696            True            1  \n",
       "1                  0.0                0.010116            True            1  \n",
       "2                  0.0                0.012375            True            1  \n",
       "3                  0.0                0.009615            True            1  \n",
       "4                  0.0                0.008527            True            1  "
      ]
     },
     "execution_count": 5,
     "metadata": {},
     "output_type": "execute_result"
    }
   ],
   "source": [
    "RTP.head()"
   ]
  },
  {
   "cell_type": "code",
   "execution_count": 7,
   "metadata": {},
   "outputs": [],
   "source": [
    "RTP=RTP['total_lmp_rt']"
   ]
  },
  {
   "cell_type": "code",
   "execution_count": 11,
   "metadata": {},
   "outputs": [
    {
     "data": {
      "text/plain": [
       "[<matplotlib.lines.Line2D at 0x7f00ff5d22b0>]"
      ]
     },
     "execution_count": 11,
     "metadata": {},
     "output_type": "execute_result"
    },
    {
     "data": {
      "image/png": "[encoded data removed]",
      "text/plain": [
       "<Figure size 432x288 with 1 Axes>"
      ]
     },
     "metadata": {
      "needs_background": "light"
     },
     "output_type": "display_data"
    }
   ],
   "source": [
    "import matplotlib.pyplot as plt\n",
    "plt.plot(RTP[0:240])"
   ]
  },
  {
   "cell_type": "code",
   "execution_count": 9,
   "metadata": {},
   "outputs": [
    {
     "data": {
      "text/plain": [
       "107.08333333333333"
      ]
     },
     "execution_count": 9,
     "metadata": {},
     "output_type": "execute_result"
    }
   ],
   "source": [
    "2570/24"
   ]
  },
  {
   "cell_type": "code",
   "execution_count": null,
   "metadata": {},
   "outputs": [],
   "source": []
  }
 ],
 "metadata": {
  "kernelspec": {
   "display_name": "Python 3",
   "language": "python",
   "name": "python3"
  },
  "language_info": {
   "codemirror_mode": {
    "name": "ipython",
    "version": 3
   },
   "file_extension": ".py",
   "mimetype": "text/x-python",
   "name": "python",
   "nbconvert_exporter": "python",
   "pygments_lexer": "ipython3",
   "version": "3.8.6"
  }
 },
 "nbformat": 4,
 "nbformat_minor": 4
}
