{
 "cells": [
  {
   "cell_type": "code",
   "execution_count": 1,
   "metadata": {},
   "outputs": [],
   "source": [
    "import pandas as pd\n",
    "load = pd.read_csv('./Data/Base_load_update.csv')"
   ]
  },
  {
   "cell_type": "code",
   "execution_count": 2,
   "metadata": {},
   "outputs": [
    {
     "data": {
      "text/html": [
       "<div>\n",
       "<style scoped>\n",
       "    .dataframe tbody tr th:only-of-type {\n",
       "        vertical-align: middle;\n",
       "    }\n",
       "\n",
       "    .dataframe tbody tr th {\n",
       "        vertical-align: top;\n",
       "    }\n",
       "\n",
       "    .dataframe thead th {\n",
       "        text-align: right;\n",
       "    }\n",
       "</style>\n",
       "<table border=\"1\" class=\"dataframe\">\n",
       "  <thead>\n",
       "    <tr style=\"text-align: right;\">\n",
       "      <th></th>\n",
       "      <th>localminute</th>\n",
       "      <th>27</th>\n",
       "      <th>142</th>\n",
       "      <th>387</th>\n",
       "      <th>558</th>\n",
       "      <th>914</th>\n",
       "      <th>950</th>\n",
       "      <th>1222</th>\n",
       "      <th>1240</th>\n",
       "      <th>1417</th>\n",
       "      <th>...</th>\n",
       "      <th>3700</th>\n",
       "      <th>3996</th>\n",
       "      <th>4283</th>\n",
       "      <th>4550</th>\n",
       "      <th>5058</th>\n",
       "      <th>5587</th>\n",
       "      <th>5679</th>\n",
       "      <th>5982</th>\n",
       "      <th>5997</th>\n",
       "      <th>9053</th>\n",
       "    </tr>\n",
       "  </thead>\n",
       "  <tbody>\n",
       "    <tr>\n",
       "      <th>264950</th>\n",
       "      <td>2019/10/31 23:50</td>\n",
       "      <td>0.175</td>\n",
       "      <td>0.209</td>\n",
       "      <td>0.150</td>\n",
       "      <td>0.021</td>\n",
       "      <td>0.006</td>\n",
       "      <td>0.195</td>\n",
       "      <td>0.010</td>\n",
       "      <td>0.198</td>\n",
       "      <td>0.040</td>\n",
       "      <td>...</td>\n",
       "      <td>0.023</td>\n",
       "      <td>0.069</td>\n",
       "      <td>0.096</td>\n",
       "      <td>0.143</td>\n",
       "      <td>1.627</td>\n",
       "      <td>0.022</td>\n",
       "      <td>0.194</td>\n",
       "      <td>0.027</td>\n",
       "      <td>0.310</td>\n",
       "      <td>0.001</td>\n",
       "    </tr>\n",
       "    <tr>\n",
       "      <th>264951</th>\n",
       "      <td>2019/10/31 23:51</td>\n",
       "      <td>0.236</td>\n",
       "      <td>0.410</td>\n",
       "      <td>0.151</td>\n",
       "      <td>0.022</td>\n",
       "      <td>0.006</td>\n",
       "      <td>0.195</td>\n",
       "      <td>0.010</td>\n",
       "      <td>0.198</td>\n",
       "      <td>0.040</td>\n",
       "      <td>...</td>\n",
       "      <td>0.023</td>\n",
       "      <td>0.069</td>\n",
       "      <td>0.096</td>\n",
       "      <td>0.142</td>\n",
       "      <td>1.629</td>\n",
       "      <td>0.022</td>\n",
       "      <td>0.205</td>\n",
       "      <td>0.026</td>\n",
       "      <td>0.258</td>\n",
       "      <td>0.001</td>\n",
       "    </tr>\n",
       "    <tr>\n",
       "      <th>264952</th>\n",
       "      <td>2019/10/31 23:52</td>\n",
       "      <td>0.236</td>\n",
       "      <td>0.407</td>\n",
       "      <td>0.150</td>\n",
       "      <td>0.042</td>\n",
       "      <td>0.006</td>\n",
       "      <td>0.196</td>\n",
       "      <td>0.010</td>\n",
       "      <td>0.197</td>\n",
       "      <td>0.040</td>\n",
       "      <td>...</td>\n",
       "      <td>0.023</td>\n",
       "      <td>0.069</td>\n",
       "      <td>0.096</td>\n",
       "      <td>0.045</td>\n",
       "      <td>1.632</td>\n",
       "      <td>0.022</td>\n",
       "      <td>0.213</td>\n",
       "      <td>0.026</td>\n",
       "      <td>0.253</td>\n",
       "      <td>0.001</td>\n",
       "    </tr>\n",
       "    <tr>\n",
       "      <th>264953</th>\n",
       "      <td>2019/10/31 23:53</td>\n",
       "      <td>0.277</td>\n",
       "      <td>0.402</td>\n",
       "      <td>0.150</td>\n",
       "      <td>0.177</td>\n",
       "      <td>0.006</td>\n",
       "      <td>0.195</td>\n",
       "      <td>0.034</td>\n",
       "      <td>0.197</td>\n",
       "      <td>0.040</td>\n",
       "      <td>...</td>\n",
       "      <td>0.023</td>\n",
       "      <td>0.104</td>\n",
       "      <td>0.095</td>\n",
       "      <td>0.032</td>\n",
       "      <td>1.633</td>\n",
       "      <td>0.022</td>\n",
       "      <td>0.674</td>\n",
       "      <td>0.026</td>\n",
       "      <td>0.523</td>\n",
       "      <td>0.001</td>\n",
       "    </tr>\n",
       "    <tr>\n",
       "      <th>264954</th>\n",
       "      <td>2019/10/31 23:54</td>\n",
       "      <td>0.683</td>\n",
       "      <td>0.401</td>\n",
       "      <td>0.150</td>\n",
       "      <td>0.164</td>\n",
       "      <td>0.006</td>\n",
       "      <td>0.195</td>\n",
       "      <td>0.072</td>\n",
       "      <td>0.200</td>\n",
       "      <td>0.039</td>\n",
       "      <td>...</td>\n",
       "      <td>0.021</td>\n",
       "      <td>0.602</td>\n",
       "      <td>0.095</td>\n",
       "      <td>0.032</td>\n",
       "      <td>1.633</td>\n",
       "      <td>0.022</td>\n",
       "      <td>0.654</td>\n",
       "      <td>0.026</td>\n",
       "      <td>0.775</td>\n",
       "      <td>0.001</td>\n",
       "    </tr>\n",
       "    <tr>\n",
       "      <th>264955</th>\n",
       "      <td>2019/10/31 23:55</td>\n",
       "      <td>0.680</td>\n",
       "      <td>0.400</td>\n",
       "      <td>0.149</td>\n",
       "      <td>0.156</td>\n",
       "      <td>0.006</td>\n",
       "      <td>0.195</td>\n",
       "      <td>0.072</td>\n",
       "      <td>0.196</td>\n",
       "      <td>0.039</td>\n",
       "      <td>...</td>\n",
       "      <td>0.021</td>\n",
       "      <td>0.603</td>\n",
       "      <td>0.096</td>\n",
       "      <td>0.032</td>\n",
       "      <td>1.634</td>\n",
       "      <td>0.022</td>\n",
       "      <td>0.649</td>\n",
       "      <td>0.026</td>\n",
       "      <td>0.775</td>\n",
       "      <td>0.001</td>\n",
       "    </tr>\n",
       "    <tr>\n",
       "      <th>264956</th>\n",
       "      <td>2019/10/31 23:56</td>\n",
       "      <td>0.627</td>\n",
       "      <td>0.399</td>\n",
       "      <td>0.149</td>\n",
       "      <td>0.154</td>\n",
       "      <td>0.006</td>\n",
       "      <td>0.194</td>\n",
       "      <td>0.150</td>\n",
       "      <td>0.198</td>\n",
       "      <td>0.039</td>\n",
       "      <td>...</td>\n",
       "      <td>0.021</td>\n",
       "      <td>0.609</td>\n",
       "      <td>0.096</td>\n",
       "      <td>0.039</td>\n",
       "      <td>1.634</td>\n",
       "      <td>0.022</td>\n",
       "      <td>0.186</td>\n",
       "      <td>0.026</td>\n",
       "      <td>0.702</td>\n",
       "      <td>0.001</td>\n",
       "    </tr>\n",
       "    <tr>\n",
       "      <th>264957</th>\n",
       "      <td>2019/10/31 23:57</td>\n",
       "      <td>0.155</td>\n",
       "      <td>0.399</td>\n",
       "      <td>0.150</td>\n",
       "      <td>0.152</td>\n",
       "      <td>0.006</td>\n",
       "      <td>0.195</td>\n",
       "      <td>0.142</td>\n",
       "      <td>0.196</td>\n",
       "      <td>0.039</td>\n",
       "      <td>...</td>\n",
       "      <td>0.021</td>\n",
       "      <td>0.611</td>\n",
       "      <td>0.095</td>\n",
       "      <td>0.036</td>\n",
       "      <td>1.635</td>\n",
       "      <td>0.022</td>\n",
       "      <td>0.186</td>\n",
       "      <td>0.026</td>\n",
       "      <td>0.711</td>\n",
       "      <td>0.001</td>\n",
       "    </tr>\n",
       "    <tr>\n",
       "      <th>264958</th>\n",
       "      <td>2019/10/31 23:58</td>\n",
       "      <td>0.150</td>\n",
       "      <td>0.398</td>\n",
       "      <td>0.150</td>\n",
       "      <td>0.151</td>\n",
       "      <td>0.006</td>\n",
       "      <td>0.195</td>\n",
       "      <td>0.138</td>\n",
       "      <td>0.196</td>\n",
       "      <td>0.039</td>\n",
       "      <td>...</td>\n",
       "      <td>0.021</td>\n",
       "      <td>0.613</td>\n",
       "      <td>0.096</td>\n",
       "      <td>0.036</td>\n",
       "      <td>1.634</td>\n",
       "      <td>0.022</td>\n",
       "      <td>0.186</td>\n",
       "      <td>0.026</td>\n",
       "      <td>0.708</td>\n",
       "      <td>0.001</td>\n",
       "    </tr>\n",
       "    <tr>\n",
       "      <th>264959</th>\n",
       "      <td>2019/10/31 23:59</td>\n",
       "      <td>0.205</td>\n",
       "      <td>0.182</td>\n",
       "      <td>0.148</td>\n",
       "      <td>0.151</td>\n",
       "      <td>0.006</td>\n",
       "      <td>0.195</td>\n",
       "      <td>0.137</td>\n",
       "      <td>0.196</td>\n",
       "      <td>0.038</td>\n",
       "      <td>...</td>\n",
       "      <td>0.021</td>\n",
       "      <td>0.611</td>\n",
       "      <td>0.420</td>\n",
       "      <td>0.036</td>\n",
       "      <td>1.631</td>\n",
       "      <td>0.022</td>\n",
       "      <td>0.186</td>\n",
       "      <td>0.026</td>\n",
       "      <td>0.694</td>\n",
       "      <td>0.001</td>\n",
       "    </tr>\n",
       "  </tbody>\n",
       "</table>\n",
       "<p>10 rows × 26 columns</p>\n",
       "</div>"
      ],
      "text/plain": [
       "             localminute     27    142    387    558    914    950   1222  \\\n",
       "264950  2019/10/31 23:50  0.175  0.209  0.150  0.021  0.006  0.195  0.010   \n",
       "264951  2019/10/31 23:51  0.236  0.410  0.151  0.022  0.006  0.195  0.010   \n",
       "264952  2019/10/31 23:52  0.236  0.407  0.150  0.042  0.006  0.196  0.010   \n",
       "264953  2019/10/31 23:53  0.277  0.402  0.150  0.177  0.006  0.195  0.034   \n",
       "264954  2019/10/31 23:54  0.683  0.401  0.150  0.164  0.006  0.195  0.072   \n",
       "264955  2019/10/31 23:55  0.680  0.400  0.149  0.156  0.006  0.195  0.072   \n",
       "264956  2019/10/31 23:56  0.627  0.399  0.149  0.154  0.006  0.194  0.150   \n",
       "264957  2019/10/31 23:57  0.155  0.399  0.150  0.152  0.006  0.195  0.142   \n",
       "264958  2019/10/31 23:58  0.150  0.398  0.150  0.151  0.006  0.195  0.138   \n",
       "264959  2019/10/31 23:59  0.205  0.182  0.148  0.151  0.006  0.195  0.137   \n",
       "\n",
       "         1240   1417  ...   3700   3996   4283   4550   5058   5587   5679  \\\n",
       "264950  0.198  0.040  ...  0.023  0.069  0.096  0.143  1.627  0.022  0.194   \n",
       "264951  0.198  0.040  ...  0.023  0.069  0.096  0.142  1.629  0.022  0.205   \n",
       "264952  0.197  0.040  ...  0.023  0.069  0.096  0.045  1.632  0.022  0.213   \n",
       "264953  0.197  0.040  ...  0.023  0.104  0.095  0.032  1.633  0.022  0.674   \n",
       "264954  0.200  0.039  ...  0.021  0.602  0.095  0.032  1.633  0.022  0.654   \n",
       "264955  0.196  0.039  ...  0.021  0.603  0.096  0.032  1.634  0.022  0.649   \n",
       "264956  0.198  0.039  ...  0.021  0.609  0.096  0.039  1.634  0.022  0.186   \n",
       "264957  0.196  0.039  ...  0.021  0.611  0.095  0.036  1.635  0.022  0.186   \n",
       "264958  0.196  0.039  ...  0.021  0.613  0.096  0.036  1.634  0.022  0.186   \n",
       "264959  0.196  0.038  ...  0.021  0.611  0.420  0.036  1.631  0.022  0.186   \n",
       "\n",
       "         5982   5997   9053  \n",
       "264950  0.027  0.310  0.001  \n",
       "264951  0.026  0.258  0.001  \n",
       "264952  0.026  0.253  0.001  \n",
       "264953  0.026  0.523  0.001  \n",
       "264954  0.026  0.775  0.001  \n",
       "264955  0.026  0.775  0.001  \n",
       "264956  0.026  0.702  0.001  \n",
       "264957  0.026  0.711  0.001  \n",
       "264958  0.026  0.708  0.001  \n",
       "264959  0.026  0.694  0.001  \n",
       "\n",
       "[10 rows x 26 columns]"
      ]
     },
     "execution_count": 2,
     "metadata": {},
     "output_type": "execute_result"
    }
   ],
   "source": [
    "load[-10:]"
   ]
  },
  {
   "cell_type": "code",
   "execution_count": 4,
   "metadata": {},
   "outputs": [],
   "source": [
    "load = load.rename(columns={\"localminute\":\"time\"})"
   ]
  },
  {
   "cell_type": "code",
   "execution_count": 6,
   "metadata": {},
   "outputs": [],
   "source": [
    "load.time =pd.to_datetime(load.time)"
   ]
  },
  {
   "cell_type": "code",
   "execution_count": 13,
   "metadata": {},
   "outputs": [
    {
     "data": {
      "text/plain": [
       "[<matplotlib.lines.Line2D at 0x7efc77f78100>]"
      ]
     },
     "execution_count": 13,
     "metadata": {},
     "output_type": "execute_result"
    },
    {
     "data": {
      "image/png": "[encoded data removed]",
      "text/plain": [
       "<Figure size 432x288 with 1 Axes>"
      ]
     },
     "metadata": {
      "needs_background": "light"
     },
     "output_type": "display_data"
    }
   ],
   "source": [
    "import matplotlib.pyplot as plt\n",
    "plt.plot(load[0:24*60-1]['time'],load[0:24*60-1]['27'])"
   ]
  },
  {
   "cell_type": "code",
   "execution_count": 10,
   "metadata": {},
   "outputs": [
    {
     "data": {
      "text/html": [
       "<div>\n",
       "<style scoped>\n",
       "    .dataframe tbody tr th:only-of-type {\n",
       "        vertical-align: middle;\n",
       "    }\n",
       "\n",
       "    .dataframe tbody tr th {\n",
       "        vertical-align: top;\n",
       "    }\n",
       "\n",
       "    .dataframe thead th {\n",
       "        text-align: right;\n",
       "    }\n",
       "</style>\n",
       "<table border=\"1\" class=\"dataframe\">\n",
       "  <thead>\n",
       "    <tr style=\"text-align: right;\">\n",
       "      <th></th>\n",
       "      <th>time</th>\n",
       "      <th>27</th>\n",
       "      <th>142</th>\n",
       "      <th>387</th>\n",
       "      <th>558</th>\n",
       "      <th>914</th>\n",
       "      <th>950</th>\n",
       "      <th>1222</th>\n",
       "      <th>1240</th>\n",
       "      <th>1417</th>\n",
       "      <th>...</th>\n",
       "      <th>3700</th>\n",
       "      <th>3996</th>\n",
       "      <th>4283</th>\n",
       "      <th>4550</th>\n",
       "      <th>5058</th>\n",
       "      <th>5587</th>\n",
       "      <th>5679</th>\n",
       "      <th>5982</th>\n",
       "      <th>5997</th>\n",
       "      <th>9053</th>\n",
       "    </tr>\n",
       "    <tr>\n",
       "      <th>time</th>\n",
       "      <th></th>\n",
       "      <th></th>\n",
       "      <th></th>\n",
       "      <th></th>\n",
       "      <th></th>\n",
       "      <th></th>\n",
       "      <th></th>\n",
       "      <th></th>\n",
       "      <th></th>\n",
       "      <th></th>\n",
       "      <th></th>\n",
       "      <th></th>\n",
       "      <th></th>\n",
       "      <th></th>\n",
       "      <th></th>\n",
       "      <th></th>\n",
       "      <th></th>\n",
       "      <th></th>\n",
       "      <th></th>\n",
       "      <th></th>\n",
       "      <th></th>\n",
       "    </tr>\n",
       "  </thead>\n",
       "  <tbody>\n",
       "    <tr>\n",
       "      <th>2019-05-01 00:00:00</th>\n",
       "      <td>2019-05-01 00:00:00</td>\n",
       "      <td>0.349</td>\n",
       "      <td>0.066</td>\n",
       "      <td>0.061</td>\n",
       "      <td>0.164</td>\n",
       "      <td>0.008</td>\n",
       "      <td>0.190</td>\n",
       "      <td>0.013</td>\n",
       "      <td>0.357</td>\n",
       "      <td>0.036</td>\n",
       "      <td>...</td>\n",
       "      <td>0.155</td>\n",
       "      <td>0.541</td>\n",
       "      <td>0.122</td>\n",
       "      <td>0.137</td>\n",
       "      <td>0.075</td>\n",
       "      <td>0.371</td>\n",
       "      <td>0.050</td>\n",
       "      <td>0.042</td>\n",
       "      <td>0.272</td>\n",
       "      <td>0.010</td>\n",
       "    </tr>\n",
       "    <tr>\n",
       "      <th>2019-05-01 00:01:00</th>\n",
       "      <td>2019-05-01 00:01:00</td>\n",
       "      <td>0.349</td>\n",
       "      <td>0.066</td>\n",
       "      <td>0.061</td>\n",
       "      <td>0.163</td>\n",
       "      <td>0.008</td>\n",
       "      <td>0.181</td>\n",
       "      <td>0.013</td>\n",
       "      <td>0.356</td>\n",
       "      <td>0.036</td>\n",
       "      <td>...</td>\n",
       "      <td>0.153</td>\n",
       "      <td>0.541</td>\n",
       "      <td>0.023</td>\n",
       "      <td>0.136</td>\n",
       "      <td>0.075</td>\n",
       "      <td>0.030</td>\n",
       "      <td>0.050</td>\n",
       "      <td>0.041</td>\n",
       "      <td>0.106</td>\n",
       "      <td>0.011</td>\n",
       "    </tr>\n",
       "    <tr>\n",
       "      <th>2019-05-01 00:02:00</th>\n",
       "      <td>2019-05-01 00:02:00</td>\n",
       "      <td>0.349</td>\n",
       "      <td>0.066</td>\n",
       "      <td>0.060</td>\n",
       "      <td>0.164</td>\n",
       "      <td>0.008</td>\n",
       "      <td>0.179</td>\n",
       "      <td>0.013</td>\n",
       "      <td>0.358</td>\n",
       "      <td>0.036</td>\n",
       "      <td>...</td>\n",
       "      <td>0.152</td>\n",
       "      <td>0.541</td>\n",
       "      <td>0.021</td>\n",
       "      <td>0.137</td>\n",
       "      <td>1.263</td>\n",
       "      <td>0.024</td>\n",
       "      <td>0.050</td>\n",
       "      <td>0.041</td>\n",
       "      <td>0.105</td>\n",
       "      <td>0.054</td>\n",
       "    </tr>\n",
       "    <tr>\n",
       "      <th>2019-05-01 00:03:00</th>\n",
       "      <td>2019-05-01 00:03:00</td>\n",
       "      <td>0.352</td>\n",
       "      <td>0.067</td>\n",
       "      <td>0.060</td>\n",
       "      <td>0.163</td>\n",
       "      <td>0.007</td>\n",
       "      <td>0.180</td>\n",
       "      <td>0.013</td>\n",
       "      <td>0.357</td>\n",
       "      <td>0.036</td>\n",
       "      <td>...</td>\n",
       "      <td>0.150</td>\n",
       "      <td>0.417</td>\n",
       "      <td>0.020</td>\n",
       "      <td>0.137</td>\n",
       "      <td>1.335</td>\n",
       "      <td>0.024</td>\n",
       "      <td>0.049</td>\n",
       "      <td>0.041</td>\n",
       "      <td>0.066</td>\n",
       "      <td>0.334</td>\n",
       "    </tr>\n",
       "    <tr>\n",
       "      <th>2019-05-01 00:04:00</th>\n",
       "      <td>2019-05-01 00:04:00</td>\n",
       "      <td>0.368</td>\n",
       "      <td>0.066</td>\n",
       "      <td>0.061</td>\n",
       "      <td>0.162</td>\n",
       "      <td>0.007</td>\n",
       "      <td>0.179</td>\n",
       "      <td>0.011</td>\n",
       "      <td>0.359</td>\n",
       "      <td>0.036</td>\n",
       "      <td>...</td>\n",
       "      <td>0.148</td>\n",
       "      <td>0.098</td>\n",
       "      <td>0.021</td>\n",
       "      <td>0.135</td>\n",
       "      <td>1.334</td>\n",
       "      <td>0.025</td>\n",
       "      <td>0.049</td>\n",
       "      <td>0.041</td>\n",
       "      <td>0.037</td>\n",
       "      <td>0.330</td>\n",
       "    </tr>\n",
       "    <tr>\n",
       "      <th>...</th>\n",
       "      <td>...</td>\n",
       "      <td>...</td>\n",
       "      <td>...</td>\n",
       "      <td>...</td>\n",
       "      <td>...</td>\n",
       "      <td>...</td>\n",
       "      <td>...</td>\n",
       "      <td>...</td>\n",
       "      <td>...</td>\n",
       "      <td>...</td>\n",
       "      <td>...</td>\n",
       "      <td>...</td>\n",
       "      <td>...</td>\n",
       "      <td>...</td>\n",
       "      <td>...</td>\n",
       "      <td>...</td>\n",
       "      <td>...</td>\n",
       "      <td>...</td>\n",
       "      <td>...</td>\n",
       "      <td>...</td>\n",
       "      <td>...</td>\n",
       "    </tr>\n",
       "    <tr>\n",
       "      <th>2019-10-31 23:55:00</th>\n",
       "      <td>2019-10-31 23:55:00</td>\n",
       "      <td>0.680</td>\n",
       "      <td>0.400</td>\n",
       "      <td>0.149</td>\n",
       "      <td>0.156</td>\n",
       "      <td>0.006</td>\n",
       "      <td>0.195</td>\n",
       "      <td>0.072</td>\n",
       "      <td>0.196</td>\n",
       "      <td>0.039</td>\n",
       "      <td>...</td>\n",
       "      <td>0.021</td>\n",
       "      <td>0.603</td>\n",
       "      <td>0.096</td>\n",
       "      <td>0.032</td>\n",
       "      <td>1.634</td>\n",
       "      <td>0.022</td>\n",
       "      <td>0.649</td>\n",
       "      <td>0.026</td>\n",
       "      <td>0.775</td>\n",
       "      <td>0.001</td>\n",
       "    </tr>\n",
       "    <tr>\n",
       "      <th>2019-10-31 23:56:00</th>\n",
       "      <td>2019-10-31 23:56:00</td>\n",
       "      <td>0.627</td>\n",
       "      <td>0.399</td>\n",
       "      <td>0.149</td>\n",
       "      <td>0.154</td>\n",
       "      <td>0.006</td>\n",
       "      <td>0.194</td>\n",
       "      <td>0.150</td>\n",
       "      <td>0.198</td>\n",
       "      <td>0.039</td>\n",
       "      <td>...</td>\n",
       "      <td>0.021</td>\n",
       "      <td>0.609</td>\n",
       "      <td>0.096</td>\n",
       "      <td>0.039</td>\n",
       "      <td>1.634</td>\n",
       "      <td>0.022</td>\n",
       "      <td>0.186</td>\n",
       "      <td>0.026</td>\n",
       "      <td>0.702</td>\n",
       "      <td>0.001</td>\n",
       "    </tr>\n",
       "    <tr>\n",
       "      <th>2019-10-31 23:57:00</th>\n",
       "      <td>2019-10-31 23:57:00</td>\n",
       "      <td>0.155</td>\n",
       "      <td>0.399</td>\n",
       "      <td>0.150</td>\n",
       "      <td>0.152</td>\n",
       "      <td>0.006</td>\n",
       "      <td>0.195</td>\n",
       "      <td>0.142</td>\n",
       "      <td>0.196</td>\n",
       "      <td>0.039</td>\n",
       "      <td>...</td>\n",
       "      <td>0.021</td>\n",
       "      <td>0.611</td>\n",
       "      <td>0.095</td>\n",
       "      <td>0.036</td>\n",
       "      <td>1.635</td>\n",
       "      <td>0.022</td>\n",
       "      <td>0.186</td>\n",
       "      <td>0.026</td>\n",
       "      <td>0.711</td>\n",
       "      <td>0.001</td>\n",
       "    </tr>\n",
       "    <tr>\n",
       "      <th>2019-10-31 23:58:00</th>\n",
       "      <td>2019-10-31 23:58:00</td>\n",
       "      <td>0.150</td>\n",
       "      <td>0.398</td>\n",
       "      <td>0.150</td>\n",
       "      <td>0.151</td>\n",
       "      <td>0.006</td>\n",
       "      <td>0.195</td>\n",
       "      <td>0.138</td>\n",
       "      <td>0.196</td>\n",
       "      <td>0.039</td>\n",
       "      <td>...</td>\n",
       "      <td>0.021</td>\n",
       "      <td>0.613</td>\n",
       "      <td>0.096</td>\n",
       "      <td>0.036</td>\n",
       "      <td>1.634</td>\n",
       "      <td>0.022</td>\n",
       "      <td>0.186</td>\n",
       "      <td>0.026</td>\n",
       "      <td>0.708</td>\n",
       "      <td>0.001</td>\n",
       "    </tr>\n",
       "    <tr>\n",
       "      <th>2019-10-31 23:59:00</th>\n",
       "      <td>2019-10-31 23:59:00</td>\n",
       "      <td>0.205</td>\n",
       "      <td>0.182</td>\n",
       "      <td>0.148</td>\n",
       "      <td>0.151</td>\n",
       "      <td>0.006</td>\n",
       "      <td>0.195</td>\n",
       "      <td>0.137</td>\n",
       "      <td>0.196</td>\n",
       "      <td>0.038</td>\n",
       "      <td>...</td>\n",
       "      <td>0.021</td>\n",
       "      <td>0.611</td>\n",
       "      <td>0.420</td>\n",
       "      <td>0.036</td>\n",
       "      <td>1.631</td>\n",
       "      <td>0.022</td>\n",
       "      <td>0.186</td>\n",
       "      <td>0.026</td>\n",
       "      <td>0.694</td>\n",
       "      <td>0.001</td>\n",
       "    </tr>\n",
       "  </tbody>\n",
       "</table>\n",
       "<p>264960 rows × 26 columns</p>\n",
       "</div>"
      ],
      "text/plain": [
       "                                   time     27    142    387    558    914  \\\n",
       "time                                                                         \n",
       "2019-05-01 00:00:00 2019-05-01 00:00:00  0.349  0.066  0.061  0.164  0.008   \n",
       "2019-05-01 00:01:00 2019-05-01 00:01:00  0.349  0.066  0.061  0.163  0.008   \n",
       "2019-05-01 00:02:00 2019-05-01 00:02:00  0.349  0.066  0.060  0.164  0.008   \n",
       "2019-05-01 00:03:00 2019-05-01 00:03:00  0.352  0.067  0.060  0.163  0.007   \n",
       "2019-05-01 00:04:00 2019-05-01 00:04:00  0.368  0.066  0.061  0.162  0.007   \n",
       "...                                 ...    ...    ...    ...    ...    ...   \n",
       "2019-10-31 23:55:00 2019-10-31 23:55:00  0.680  0.400  0.149  0.156  0.006   \n",
       "2019-10-31 23:56:00 2019-10-31 23:56:00  0.627  0.399  0.149  0.154  0.006   \n",
       "2019-10-31 23:57:00 2019-10-31 23:57:00  0.155  0.399  0.150  0.152  0.006   \n",
       "2019-10-31 23:58:00 2019-10-31 23:58:00  0.150  0.398  0.150  0.151  0.006   \n",
       "2019-10-31 23:59:00 2019-10-31 23:59:00  0.205  0.182  0.148  0.151  0.006   \n",
       "\n",
       "                       950   1222   1240   1417  ...   3700   3996   4283  \\\n",
       "time                                             ...                        \n",
       "2019-05-01 00:00:00  0.190  0.013  0.357  0.036  ...  0.155  0.541  0.122   \n",
       "2019-05-01 00:01:00  0.181  0.013  0.356  0.036  ...  0.153  0.541  0.023   \n",
       "2019-05-01 00:02:00  0.179  0.013  0.358  0.036  ...  0.152  0.541  0.021   \n",
       "2019-05-01 00:03:00  0.180  0.013  0.357  0.036  ...  0.150  0.417  0.020   \n",
       "2019-05-01 00:04:00  0.179  0.011  0.359  0.036  ...  0.148  0.098  0.021   \n",
       "...                    ...    ...    ...    ...  ...    ...    ...    ...   \n",
       "2019-10-31 23:55:00  0.195  0.072  0.196  0.039  ...  0.021  0.603  0.096   \n",
       "2019-10-31 23:56:00  0.194  0.150  0.198  0.039  ...  0.021  0.609  0.096   \n",
       "2019-10-31 23:57:00  0.195  0.142  0.196  0.039  ...  0.021  0.611  0.095   \n",
       "2019-10-31 23:58:00  0.195  0.138  0.196  0.039  ...  0.021  0.613  0.096   \n",
       "2019-10-31 23:59:00  0.195  0.137  0.196  0.038  ...  0.021  0.611  0.420   \n",
       "\n",
       "                      4550   5058   5587   5679   5982   5997   9053  \n",
       "time                                                                  \n",
       "2019-05-01 00:00:00  0.137  0.075  0.371  0.050  0.042  0.272  0.010  \n",
       "2019-05-01 00:01:00  0.136  0.075  0.030  0.050  0.041  0.106  0.011  \n",
       "2019-05-01 00:02:00  0.137  1.263  0.024  0.050  0.041  0.105  0.054  \n",
       "2019-05-01 00:03:00  0.137  1.335  0.024  0.049  0.041  0.066  0.334  \n",
       "2019-05-01 00:04:00  0.135  1.334  0.025  0.049  0.041  0.037  0.330  \n",
       "...                    ...    ...    ...    ...    ...    ...    ...  \n",
       "2019-10-31 23:55:00  0.032  1.634  0.022  0.649  0.026  0.775  0.001  \n",
       "2019-10-31 23:56:00  0.039  1.634  0.022  0.186  0.026  0.702  0.001  \n",
       "2019-10-31 23:57:00  0.036  1.635  0.022  0.186  0.026  0.711  0.001  \n",
       "2019-10-31 23:58:00  0.036  1.634  0.022  0.186  0.026  0.708  0.001  \n",
       "2019-10-31 23:59:00  0.036  1.631  0.022  0.186  0.026  0.694  0.001  \n",
       "\n",
       "[264960 rows x 26 columns]"
      ]
     },
     "execution_count": 10,
     "metadata": {},
     "output_type": "execute_result"
    }
   ],
   "source": [
    "load.index = load.time"
   ]
  },
  {
   "cell_type": "code",
   "execution_count": 14,
   "metadata": {},
   "outputs": [],
   "source": [
    "load.drop(columns=['time'],axis=1,inplace=True)"
   ]
  },
  {
   "cell_type": "code",
   "execution_count": 17,
   "metadata": {},
   "outputs": [],
   "source": [
    "load_sum=load.sum(axis=1)"
   ]
  },
  {
   "cell_type": "code",
   "execution_count": 20,
   "metadata": {},
   "outputs": [
    {
     "data": {
      "image/png": "[encoded data removed]",
      "text/plain": [
       "<Figure size 432x288 with 1 Axes>"
      ]
     },
     "metadata": {
      "needs_background": "light"
     },
     "output_type": "display_data"
    }
   ],
   "source": [
    "plt.plot(load_sum[0:24*60-1])\n",
    "plt.show()"
   ]
  },
  {
   "cell_type": "code",
   "execution_count": 54,
   "metadata": {},
   "outputs": [
    {
     "data": {
      "text/plain": [
       "7.189986699879227"
      ]
     },
     "execution_count": 54,
     "metadata": {},
     "output_type": "execute_result"
    }
   ],
   "source": [
    "load_sum.mean()"
   ]
  },
  {
   "cell_type": "code",
   "execution_count": 24,
   "metadata": {},
   "outputs": [],
   "source": [
    "value = load_sum.to_numpy()"
   ]
  },
  {
   "cell_type": "code",
   "execution_count": 26,
   "metadata": {},
   "outputs": [
    {
     "data": {
      "text/plain": [
       "array([5.475, 5.085, 5.983, ..., 5.925, 5.601, 5.672])"
      ]
     },
     "execution_count": 26,
     "metadata": {},
     "output_type": "execute_result"
    }
   ],
   "source": [
    "value"
   ]
  },
  {
   "cell_type": "code",
   "execution_count": 27,
   "metadata": {},
   "outputs": [],
   "source": [
    "import numpy as np\n",
    "loads = value.reshape(-1,24*60)"
   ]
  },
  {
   "cell_type": "code",
   "execution_count": 29,
   "metadata": {},
   "outputs": [
    {
     "data": {
      "text/plain": [
       "(184, 1440)"
      ]
     },
     "execution_count": 29,
     "metadata": {},
     "output_type": "execute_result"
    }
   ],
   "source": [
    "loads.shape"
   ]
  },
  {
   "cell_type": "code",
   "execution_count": 30,
   "metadata": {},
   "outputs": [],
   "source": [
    "np.save('load_sum.npy',loads)"
   ]
  },
  {
   "cell_type": "code",
   "execution_count": 31,
   "metadata": {},
   "outputs": [],
   "source": [
    "import pandas as pd\n",
    "PV = pd.read_csv('./Data/PV_1.csv')"
   ]
  },
  {
   "cell_type": "code",
   "execution_count": 33,
   "metadata": {},
   "outputs": [],
   "source": [
    "PV.dropna(axis=1,inplace=True)"
   ]
  },
  {
   "cell_type": "code",
   "execution_count": 38,
   "metadata": {},
   "outputs": [
    {
     "ename": "KeyError",
     "evalue": "\"['Unnamed:0'] not found in axis\"",
     "output_type": "error",
     "traceback": [
      "\u001b[0;31m---------------------------------------------------------------------------\u001b[0m",
      "\u001b[0;31mKeyError\u001b[0m                                  Traceback (most recent call last)",
      "\u001b[0;32m<ipython-input-38-aa3ce023ba7c>\u001b[0m in \u001b[0;36m<module>\u001b[0;34m\u001b[0m\n\u001b[1;32m      1\u001b[0m \u001b[0mPV\u001b[0m\u001b[0;34m=\u001b[0m\u001b[0mPV\u001b[0m\u001b[0;34m.\u001b[0m\u001b[0mrename\u001b[0m\u001b[0;34m(\u001b[0m\u001b[0mcolumns\u001b[0m\u001b[0;34m=\u001b[0m\u001b[0;34m{\u001b[0m\u001b[0;34m\"localminute\"\u001b[0m\u001b[0;34m:\u001b[0m\u001b[0;34m\"time\"\u001b[0m\u001b[0;34m}\u001b[0m\u001b[0;34m)\u001b[0m\u001b[0;34m\u001b[0m\u001b[0;34m\u001b[0m\u001b[0m\n\u001b[1;32m      2\u001b[0m \u001b[0mPV\u001b[0m\u001b[0;34m.\u001b[0m\u001b[0mindex\u001b[0m \u001b[0;34m=\u001b[0m \u001b[0mpd\u001b[0m\u001b[0;34m.\u001b[0m\u001b[0mto_datetime\u001b[0m\u001b[0;34m(\u001b[0m\u001b[0mPV\u001b[0m\u001b[0;34m.\u001b[0m\u001b[0mtime\u001b[0m\u001b[0;34m)\u001b[0m\u001b[0;34m\u001b[0m\u001b[0;34m\u001b[0m\u001b[0m\n\u001b[0;32m----> 3\u001b[0;31m \u001b[0mPV\u001b[0m\u001b[0;34m.\u001b[0m\u001b[0mdrop\u001b[0m\u001b[0;34m(\u001b[0m\u001b[0mcolumns\u001b[0m\u001b[0;34m=\u001b[0m\u001b[0;34m[\u001b[0m\u001b[0;34m'Unnamed:0'\u001b[0m\u001b[0;34m,\u001b[0m\u001b[0;34m'time'\u001b[0m\u001b[0;34m]\u001b[0m\u001b[0;34m,\u001b[0m\u001b[0maxis\u001b[0m\u001b[0;34m=\u001b[0m\u001b[0;36m1\u001b[0m\u001b[0;34m,\u001b[0m\u001b[0minplace\u001b[0m\u001b[0;34m=\u001b[0m\u001b[0;32mTrue\u001b[0m\u001b[0;34m)\u001b[0m\u001b[0;34m\u001b[0m\u001b[0;34m\u001b[0m\u001b[0m\n\u001b[0m",
      "\u001b[0;32m/usr/lib/python3.8/site-packages/pandas/core/frame.py\u001b[0m in \u001b[0;36mdrop\u001b[0;34m(self, labels, axis, index, columns, level, inplace, errors)\u001b[0m\n\u001b[1;32m   3988\u001b[0m                 \u001b[0mweight\u001b[0m  \u001b[0;36m1.0\u001b[0m     \u001b[0;36m0.8\u001b[0m\u001b[0;34m\u001b[0m\u001b[0;34m\u001b[0m\u001b[0m\n\u001b[1;32m   3989\u001b[0m         \"\"\"\n\u001b[0;32m-> 3990\u001b[0;31m         return super().drop(\n\u001b[0m\u001b[1;32m   3991\u001b[0m             \u001b[0mlabels\u001b[0m\u001b[0;34m=\u001b[0m\u001b[0mlabels\u001b[0m\u001b[0;34m,\u001b[0m\u001b[0;34m\u001b[0m\u001b[0;34m\u001b[0m\u001b[0m\n\u001b[1;32m   3992\u001b[0m             \u001b[0maxis\u001b[0m\u001b[0;34m=\u001b[0m\u001b[0maxis\u001b[0m\u001b[0;34m,\u001b[0m\u001b[0;34m\u001b[0m\u001b[0;34m\u001b[0m\u001b[0m\n",
      "\u001b[0;32m/usr/lib/python3.8/site-packages/pandas/core/generic.py\u001b[0m in \u001b[0;36mdrop\u001b[0;34m(self, labels, axis, index, columns, level, inplace, errors)\u001b[0m\n\u001b[1;32m   3934\u001b[0m         \u001b[0;32mfor\u001b[0m \u001b[0maxis\u001b[0m\u001b[0;34m,\u001b[0m \u001b[0mlabels\u001b[0m \u001b[0;32min\u001b[0m \u001b[0maxes\u001b[0m\u001b[0;34m.\u001b[0m\u001b[0mitems\u001b[0m\u001b[0;34m(\u001b[0m\u001b[0;34m)\u001b[0m\u001b[0;34m:\u001b[0m\u001b[0;34m\u001b[0m\u001b[0;34m\u001b[0m\u001b[0m\n\u001b[1;32m   3935\u001b[0m             \u001b[0;32mif\u001b[0m \u001b[0mlabels\u001b[0m \u001b[0;32mis\u001b[0m \u001b[0;32mnot\u001b[0m \u001b[0;32mNone\u001b[0m\u001b[0;34m:\u001b[0m\u001b[0;34m\u001b[0m\u001b[0;34m\u001b[0m\u001b[0m\n\u001b[0;32m-> 3936\u001b[0;31m                 \u001b[0mobj\u001b[0m \u001b[0;34m=\u001b[0m \u001b[0mobj\u001b[0m\u001b[0;34m.\u001b[0m\u001b[0m_drop_axis\u001b[0m\u001b[0;34m(\u001b[0m\u001b[0mlabels\u001b[0m\u001b[0;34m,\u001b[0m \u001b[0maxis\u001b[0m\u001b[0;34m,\u001b[0m \u001b[0mlevel\u001b[0m\u001b[0;34m=\u001b[0m\u001b[0mlevel\u001b[0m\u001b[0;34m,\u001b[0m \u001b[0merrors\u001b[0m\u001b[0;34m=\u001b[0m\u001b[0merrors\u001b[0m\u001b[0;34m)\u001b[0m\u001b[0;34m\u001b[0m\u001b[0;34m\u001b[0m\u001b[0m\n\u001b[0m\u001b[1;32m   3937\u001b[0m \u001b[0;34m\u001b[0m\u001b[0m\n\u001b[1;32m   3938\u001b[0m         \u001b[0;32mif\u001b[0m \u001b[0minplace\u001b[0m\u001b[0;34m:\u001b[0m\u001b[0;34m\u001b[0m\u001b[0;34m\u001b[0m\u001b[0m\n",
      "\u001b[0;32m/usr/lib/python3.8/site-packages/pandas/core/generic.py\u001b[0m in \u001b[0;36m_drop_axis\u001b[0;34m(self, labels, axis, level, errors)\u001b[0m\n\u001b[1;32m   3968\u001b[0m                 \u001b[0mnew_axis\u001b[0m \u001b[0;34m=\u001b[0m \u001b[0maxis\u001b[0m\u001b[0;34m.\u001b[0m\u001b[0mdrop\u001b[0m\u001b[0;34m(\u001b[0m\u001b[0mlabels\u001b[0m\u001b[0;34m,\u001b[0m \u001b[0mlevel\u001b[0m\u001b[0;34m=\u001b[0m\u001b[0mlevel\u001b[0m\u001b[0;34m,\u001b[0m \u001b[0merrors\u001b[0m\u001b[0;34m=\u001b[0m\u001b[0merrors\u001b[0m\u001b[0;34m)\u001b[0m\u001b[0;34m\u001b[0m\u001b[0;34m\u001b[0m\u001b[0m\n\u001b[1;32m   3969\u001b[0m             \u001b[0;32melse\u001b[0m\u001b[0;34m:\u001b[0m\u001b[0;34m\u001b[0m\u001b[0;34m\u001b[0m\u001b[0m\n\u001b[0;32m-> 3970\u001b[0;31m                 \u001b[0mnew_axis\u001b[0m \u001b[0;34m=\u001b[0m \u001b[0maxis\u001b[0m\u001b[0;34m.\u001b[0m\u001b[0mdrop\u001b[0m\u001b[0;34m(\u001b[0m\u001b[0mlabels\u001b[0m\u001b[0;34m,\u001b[0m \u001b[0merrors\u001b[0m\u001b[0;34m=\u001b[0m\u001b[0merrors\u001b[0m\u001b[0;34m)\u001b[0m\u001b[0;34m\u001b[0m\u001b[0;34m\u001b[0m\u001b[0m\n\u001b[0m\u001b[1;32m   3971\u001b[0m             \u001b[0mresult\u001b[0m \u001b[0;34m=\u001b[0m \u001b[0mself\u001b[0m\u001b[0;34m.\u001b[0m\u001b[0mreindex\u001b[0m\u001b[0;34m(\u001b[0m\u001b[0;34m**\u001b[0m\u001b[0;34m{\u001b[0m\u001b[0maxis_name\u001b[0m\u001b[0;34m:\u001b[0m \u001b[0mnew_axis\u001b[0m\u001b[0;34m}\u001b[0m\u001b[0;34m)\u001b[0m\u001b[0;34m\u001b[0m\u001b[0;34m\u001b[0m\u001b[0m\n\u001b[1;32m   3972\u001b[0m \u001b[0;34m\u001b[0m\u001b[0m\n",
      "\u001b[0;32m/usr/lib/python3.8/site-packages/pandas/core/indexes/base.py\u001b[0m in \u001b[0;36mdrop\u001b[0;34m(self, labels, errors)\u001b[0m\n\u001b[1;32m   5015\u001b[0m         \u001b[0;32mif\u001b[0m \u001b[0mmask\u001b[0m\u001b[0;34m.\u001b[0m\u001b[0many\u001b[0m\u001b[0;34m(\u001b[0m\u001b[0;34m)\u001b[0m\u001b[0;34m:\u001b[0m\u001b[0;34m\u001b[0m\u001b[0;34m\u001b[0m\u001b[0m\n\u001b[1;32m   5016\u001b[0m             \u001b[0;32mif\u001b[0m \u001b[0merrors\u001b[0m \u001b[0;34m!=\u001b[0m \u001b[0;34m\"ignore\"\u001b[0m\u001b[0;34m:\u001b[0m\u001b[0;34m\u001b[0m\u001b[0;34m\u001b[0m\u001b[0m\n\u001b[0;32m-> 5017\u001b[0;31m                 \u001b[0;32mraise\u001b[0m \u001b[0mKeyError\u001b[0m\u001b[0;34m(\u001b[0m\u001b[0;34mf\"{labels[mask]} not found in axis\"\u001b[0m\u001b[0;34m)\u001b[0m\u001b[0;34m\u001b[0m\u001b[0;34m\u001b[0m\u001b[0m\n\u001b[0m\u001b[1;32m   5018\u001b[0m             \u001b[0mindexer\u001b[0m \u001b[0;34m=\u001b[0m \u001b[0mindexer\u001b[0m\u001b[0;34m[\u001b[0m\u001b[0;34m~\u001b[0m\u001b[0mmask\u001b[0m\u001b[0;34m]\u001b[0m\u001b[0;34m\u001b[0m\u001b[0;34m\u001b[0m\u001b[0m\n\u001b[1;32m   5019\u001b[0m         \u001b[0;32mreturn\u001b[0m \u001b[0mself\u001b[0m\u001b[0;34m.\u001b[0m\u001b[0mdelete\u001b[0m\u001b[0;34m(\u001b[0m\u001b[0mindexer\u001b[0m\u001b[0;34m)\u001b[0m\u001b[0;34m\u001b[0m\u001b[0;34m\u001b[0m\u001b[0m\n",
      "\u001b[0;31mKeyError\u001b[0m: \"['Unnamed:0'] not found in axis\""
     ]
    }
   ],
   "source": [
    "PV=PV.rename(columns={\"localminute\":\"time\"})\n",
    "PV.index = pd.to_datetime(PV.time)\n"
   ]
  },
  {
   "cell_type": "code",
   "execution_count": 44,
   "metadata": {},
   "outputs": [],
   "source": [
    "PV.drop(columns=['Unnamed: 0', 'time'],axis=1,inplace=True)"
   ]
  },
  {
   "cell_type": "code",
   "execution_count": 46,
   "metadata": {},
   "outputs": [],
   "source": [
    "PV_sum=PV.sum(axis=1)"
   ]
  },
  {
   "cell_type": "code",
   "execution_count": 51,
   "metadata": {},
   "outputs": [
    {
     "data": {
      "image/png": "[encoded data removed]",
      "text/plain": [
       "<Figure size 432x288 with 1 Axes>"
      ]
     },
     "metadata": {
      "needs_background": "light"
     },
     "output_type": "display_data"
    }
   ],
   "source": [
    "plt.plot(PV_sum[0:20*24*60-1])\n",
    "plt.show()"
   ]
  },
  {
   "cell_type": "code",
   "execution_count": 52,
   "metadata": {},
   "outputs": [],
   "source": [
    "value = PV_sum.to_numpy()\n",
    "np.save('./Data/PV_sum.npy',value.reshape(-1,24*60))"
   ]
  },
  {
   "cell_type": "code",
   "execution_count": 53,
   "metadata": {},
   "outputs": [
    {
     "data": {
      "text/plain": [
       "15.979303955314007"
      ]
     },
     "execution_count": 53,
     "metadata": {},
     "output_type": "execute_result"
    }
   ],
   "source": [
    "value.mean()"
   ]
  },
  {
   "cell_type": "code",
   "execution_count": 1,
   "metadata": {},
   "outputs": [],
   "source": [
    "import pandas as pd\n",
    "T = pd.read_csv('./Data/temperature.csv')"
   ]
  },
  {
   "cell_type": "code",
   "execution_count": 2,
   "metadata": {},
   "outputs": [
    {
     "data": {
      "text/html": [
       "<div>\n",
       "<style scoped>\n",
       "    .dataframe tbody tr th:only-of-type {\n",
       "        vertical-align: middle;\n",
       "    }\n",
       "\n",
       "    .dataframe tbody tr th {\n",
       "        vertical-align: top;\n",
       "    }\n",
       "\n",
       "    .dataframe thead th {\n",
       "        text-align: right;\n",
       "    }\n",
       "</style>\n",
       "<table border=\"1\" class=\"dataframe\">\n",
       "  <thead>\n",
       "    <tr style=\"text-align: right;\">\n",
       "      <th></th>\n",
       "      <th>location</th>\n",
       "      <th>Basel</th>\n",
       "    </tr>\n",
       "  </thead>\n",
       "  <tbody>\n",
       "    <tr>\n",
       "      <th>0</th>\n",
       "      <td>lat</td>\n",
       "      <td>47.54694</td>\n",
       "    </tr>\n",
       "    <tr>\n",
       "      <th>1</th>\n",
       "      <td>lon</td>\n",
       "      <td>7.56892</td>\n",
       "    </tr>\n",
       "    <tr>\n",
       "      <th>2</th>\n",
       "      <td>asl</td>\n",
       "      <td>283.697</td>\n",
       "    </tr>\n",
       "    <tr>\n",
       "      <th>3</th>\n",
       "      <td>variable</td>\n",
       "      <td>Temperature</td>\n",
       "    </tr>\n",
       "    <tr>\n",
       "      <th>4</th>\n",
       "      <td>unit</td>\n",
       "      <td>°C</td>\n",
       "    </tr>\n",
       "  </tbody>\n",
       "</table>\n",
       "</div>"
      ],
      "text/plain": [
       "   location        Basel\n",
       "0       lat     47.54694\n",
       "1       lon      7.56892\n",
       "2       asl      283.697\n",
       "3  variable  Temperature\n",
       "4      unit           °C"
      ]
     },
     "execution_count": 2,
     "metadata": {},
     "output_type": "execute_result"
    }
   ],
   "source": [
    "T.head()"
   ]
  },
  {
   "cell_type": "code",
   "execution_count": 4,
   "metadata": {},
   "outputs": [
    {
     "data": {
      "text/html": [
       "<div>\n",
       "<style scoped>\n",
       "    .dataframe tbody tr th:only-of-type {\n",
       "        vertical-align: middle;\n",
       "    }\n",
       "\n",
       "    .dataframe tbody tr th {\n",
       "        vertical-align: top;\n",
       "    }\n",
       "\n",
       "    .dataframe thead th {\n",
       "        text-align: right;\n",
       "    }\n",
       "</style>\n",
       "<table border=\"1\" class=\"dataframe\">\n",
       "  <thead>\n",
       "    <tr style=\"text-align: right;\">\n",
       "      <th></th>\n",
       "      <th>location</th>\n",
       "      <th>Basel</th>\n",
       "    </tr>\n",
       "  </thead>\n",
       "  <tbody>\n",
       "    <tr>\n",
       "      <th>0</th>\n",
       "      <td>lat</td>\n",
       "      <td>47.54694</td>\n",
       "    </tr>\n",
       "    <tr>\n",
       "      <th>1</th>\n",
       "      <td>lon</td>\n",
       "      <td>7.56892</td>\n",
       "    </tr>\n",
       "    <tr>\n",
       "      <th>2</th>\n",
       "      <td>asl</td>\n",
       "      <td>283.697</td>\n",
       "    </tr>\n",
       "    <tr>\n",
       "      <th>3</th>\n",
       "      <td>variable</td>\n",
       "      <td>Temperature</td>\n",
       "    </tr>\n",
       "    <tr>\n",
       "      <th>4</th>\n",
       "      <td>unit</td>\n",
       "      <td>°C</td>\n",
       "    </tr>\n",
       "    <tr>\n",
       "      <th>5</th>\n",
       "      <td>level</td>\n",
       "      <td>2 m elevation corrected</td>\n",
       "    </tr>\n",
       "    <tr>\n",
       "      <th>6</th>\n",
       "      <td>resolution</td>\n",
       "      <td>hourly</td>\n",
       "    </tr>\n",
       "    <tr>\n",
       "      <th>7</th>\n",
       "      <td>aggregation</td>\n",
       "      <td>None</td>\n",
       "    </tr>\n",
       "    <tr>\n",
       "      <th>8</th>\n",
       "      <td>timestamp</td>\n",
       "      <td>Basel Temperature [2 m elevation corrected]</td>\n",
       "    </tr>\n",
       "    <tr>\n",
       "      <th>9</th>\n",
       "      <td>20190501T0000</td>\n",
       "      <td>12.090529</td>\n",
       "    </tr>\n",
       "    <tr>\n",
       "      <th>10</th>\n",
       "      <td>20190501T0100</td>\n",
       "      <td>10.340529</td>\n",
       "    </tr>\n",
       "    <tr>\n",
       "      <th>11</th>\n",
       "      <td>20190501T0200</td>\n",
       "      <td>9.250529</td>\n",
       "    </tr>\n",
       "    <tr>\n",
       "      <th>12</th>\n",
       "      <td>20190501T0300</td>\n",
       "      <td>8.480529</td>\n",
       "    </tr>\n",
       "    <tr>\n",
       "      <th>13</th>\n",
       "      <td>20190501T0400</td>\n",
       "      <td>7.4105287</td>\n",
       "    </tr>\n",
       "    <tr>\n",
       "      <th>14</th>\n",
       "      <td>20190501T0500</td>\n",
       "      <td>6.3105288</td>\n",
       "    </tr>\n",
       "    <tr>\n",
       "      <th>15</th>\n",
       "      <td>20190501T0600</td>\n",
       "      <td>5.5105286</td>\n",
       "    </tr>\n",
       "    <tr>\n",
       "      <th>16</th>\n",
       "      <td>20190501T0700</td>\n",
       "      <td>5.4805284</td>\n",
       "    </tr>\n",
       "    <tr>\n",
       "      <th>17</th>\n",
       "      <td>20190501T0800</td>\n",
       "      <td>7.6505284</td>\n",
       "    </tr>\n",
       "    <tr>\n",
       "      <th>18</th>\n",
       "      <td>20190501T0900</td>\n",
       "      <td>10.270529</td>\n",
       "    </tr>\n",
       "    <tr>\n",
       "      <th>19</th>\n",
       "      <td>20190501T1000</td>\n",
       "      <td>12.780529</td>\n",
       "    </tr>\n",
       "  </tbody>\n",
       "</table>\n",
       "</div>"
      ],
      "text/plain": [
       "         location                                        Basel\n",
       "0             lat                                     47.54694\n",
       "1             lon                                      7.56892\n",
       "2             asl                                      283.697\n",
       "3        variable                                  Temperature\n",
       "4            unit                                           °C\n",
       "5           level                      2 m elevation corrected\n",
       "6      resolution                                       hourly\n",
       "7     aggregation                                         None\n",
       "8       timestamp  Basel Temperature [2 m elevation corrected]\n",
       "9   20190501T0000                                    12.090529\n",
       "10  20190501T0100                                    10.340529\n",
       "11  20190501T0200                                     9.250529\n",
       "12  20190501T0300                                     8.480529\n",
       "13  20190501T0400                                    7.4105287\n",
       "14  20190501T0500                                    6.3105288\n",
       "15  20190501T0600                                    5.5105286\n",
       "16  20190501T0700                                    5.4805284\n",
       "17  20190501T0800                                    7.6505284\n",
       "18  20190501T0900                                    10.270529\n",
       "19  20190501T1000                                    12.780529"
      ]
     },
     "execution_count": 4,
     "metadata": {},
     "output_type": "execute_result"
    }
   ],
   "source": [
    "T[0:20]"
   ]
  },
  {
   "cell_type": "code",
   "execution_count": 6,
   "metadata": {},
   "outputs": [],
   "source": [
    "temp = T[9:]"
   ]
  },
  {
   "cell_type": "code",
   "execution_count": 9,
   "metadata": {},
   "outputs": [
    {
     "name": "stderr",
     "output_type": "stream",
     "text": [
      "/usr/lib/python3.8/site-packages/pandas/core/frame.py:4125: SettingWithCopyWarning: \n",
      "A value is trying to be set on a copy of a slice from a DataFrame\n",
      "\n",
      "See the caveats in the documentation: https://pandas.pydata.org/pandas-docs/stable/user_guide/indexing.html#returning-a-view-versus-a-copy\n",
      "  return super().rename(\n"
     ]
    }
   ],
   "source": [
    "temp=temp.rename(columns={\"location\":\"time\", \"Basel\":\"temp\"})"
   ]
  },
  {
   "cell_type": "code",
   "execution_count": 12,
   "metadata": {},
   "outputs": [],
   "source": [
    "temp.index = temp.time"
   ]
  },
  {
   "cell_type": "code",
   "execution_count": 15,
   "metadata": {},
   "outputs": [
    {
     "name": "stderr",
     "output_type": "stream",
     "text": [
      "/usr/lib/python3.8/site-packages/pandas/core/frame.py:3990: SettingWithCopyWarning: \n",
      "A value is trying to be set on a copy of a slice from a DataFrame\n",
      "\n",
      "See the caveats in the documentation: https://pandas.pydata.org/pandas-docs/stable/user_guide/indexing.html#returning-a-view-versus-a-copy\n",
      "  return super().drop(\n"
     ]
    }
   ],
   "source": [
    "temp.drop(columns=['time'],inplace=True)"
   ]
  },
  {
   "cell_type": "code",
   "execution_count": 17,
   "metadata": {},
   "outputs": [],
   "source": [
    "temp.index = pd.to_datetime(temp.index)"
   ]
  },
  {
   "cell_type": "code",
   "execution_count": 30,
   "metadata": {},
   "outputs": [
    {
     "name": "stderr",
     "output_type": "stream",
     "text": [
      "/usr/lib/python3.8/site-packages/pandas/core/generic.py:5303: SettingWithCopyWarning: \n",
      "A value is trying to be set on a copy of a slice from a DataFrame.\n",
      "Try using .loc[row_indexer,col_indexer] = value instead\n",
      "\n",
      "See the caveats in the documentation: https://pandas.pydata.org/pandas-docs/stable/user_guide/indexing.html#returning-a-view-versus-a-copy\n",
      "  self[name] = value\n"
     ]
    }
   ],
   "source": [
    "temp.temp=pd.to_numeric(temp.temp)"
   ]
  },
  {
   "cell_type": "code",
   "execution_count": 60,
   "metadata": {},
   "outputs": [
    {
     "data": {
      "text/plain": [
       "[<matplotlib.lines.Line2D at 0x7f76092db790>]"
      ]
     },
     "execution_count": 60,
     "metadata": {},
     "output_type": "execute_result"
    },
    {
     "data": {
      "image/png": "[encoded data removed]",
      "text/plain": [
       "<Figure size 432x288 with 1 Axes>"
      ]
     },
     "metadata": {
      "needs_background": "light"
     },
     "output_type": "display_data"
    }
   ],
   "source": [
    "plt.plot(temp['2019-06-01 00:00:00':'2019-09-01 23:00:00']+5)"
   ]
  },
  {
   "cell_type": "code",
   "execution_count": 62,
   "metadata": {},
   "outputs": [],
   "source": [
    "temperature = (temp['2019-06-01 00:00:00':'2019-09-01 23:00:00']+5).temp.to_numpy()"
   ]
  },
  {
   "cell_type": "code",
   "execution_count": 63,
   "metadata": {},
   "outputs": [],
   "source": [
    "import numpy as np\n",
    "np.save('./Data/temp.npy',temperature.reshape(-1,24))"
   ]
  },
  {
   "cell_type": "code",
   "execution_count": null,
   "metadata": {},
   "outputs": [],
   "source": []
  }
 ],
 "metadata": {
  "kernelspec": {
   "display_name": "Python 3",
   "language": "python",
   "name": "python3"
  },
  "language_info": {
   "codemirror_mode": {
    "name": "ipython",
    "version": 3
   },
   "file_extension": ".py",
   "mimetype": "text/x-python",
   "name": "python",
   "nbconvert_exporter": "python",
   "pygments_lexer": "ipython3",
   "version": "3.8.2"
  }
 },
 "nbformat": 4,
 "nbformat_minor": 4
}
